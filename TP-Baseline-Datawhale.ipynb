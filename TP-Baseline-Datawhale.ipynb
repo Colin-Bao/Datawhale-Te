{
 "cells": [
  {
   "cell_type": "markdown",
   "source": [
    "## 环境配置"
   ],
   "metadata": {
    "collapsed": false
   }
  },
  {
   "cell_type": "code",
   "execution_count": 1,
   "metadata": {
    "collapsed": true,
    "ExecuteTime": {
     "end_time": "2023-07-21T05:23:11.614474Z",
     "start_time": "2023-07-21T05:23:10.336479Z"
    }
   },
   "outputs": [],
   "source": [
    "import pandas as pd\n",
    "import lightgbm as lgb\n",
    "from sklearn.metrics import mean_absolute_error\n",
    "from sklearn.model_selection import KFold\n",
    "import optuna\n",
    "import optuna.visualization as ov\n",
    "from joblib import dump, load\n",
    "import numpy as np"
   ]
  },
  {
   "cell_type": "markdown",
   "source": [
    "## 数据准备"
   ],
   "metadata": {
    "collapsed": false
   }
  },
  {
   "cell_type": "code",
   "execution_count": 2,
   "outputs": [
    {
     "data": {
      "text/plain": "       index        datetime         V1         V2         V3         V4  \\\n0          1  2022/11/6 9:08  35.668999  36.146000  25.558001  26.195000   \n1          2  2022/11/6 9:09  35.995998  36.347000  25.382000  26.348000   \n2          3  2022/11/6 9:11  35.340000  36.311001  25.469999  26.093000   \n3          4  2022/11/6 9:12  35.585999  36.091000  25.250000  26.127001   \n4          5  2022/11/6 9:13  35.946999  36.256001  25.163000  26.399000   \n...      ...             ...        ...        ...        ...        ...   \n26651  26652   2023/3/1 3:49  24.594000  24.377001  29.191999  25.551001   \n26652  26653   2023/3/1 3:54  24.379000  24.424999  29.253000  25.652000   \n26653  26654   2023/3/1 4:00  24.407000  24.312000  29.010000  25.382000   \n26654  26655   2023/3/1 4:05  24.636000  24.409000  29.162001  25.551001   \n26655  26656   2023/3/1 4:10  24.236000  24.054001  28.874001  25.282000   \n\n              V5      V6         V7      V8  ...  T2R-8  T2R-9  T2R-10  \\\n0      25.670000  15.702  16.690001  15.991  ...    827    827     827   \n1      26.131001  15.523  16.825001  15.871  ...    827    827     827   \n2      25.639000  15.564  15.564000  15.947  ...    827    827     827   \n3      25.670000  15.575  16.775999  15.936  ...    827    827     827   \n4      25.837999  15.460  16.580999  15.795  ...    827    827     827   \n...          ...     ...        ...     ...  ...    ...    ...     ...   \n26651  27.016001   4.377  21.929001  24.459  ...    837    837     837   \n26652  27.188000   4.415  22.017000  24.534  ...    837    837     837   \n26653  26.813000   4.354  21.726000  24.204  ...    837    837     837   \n26654  27.032000   4.362  21.813000  21.813  ...    837    837     837   \n26655  27.125000   4.384  21.944000  24.444  ...    837    837     837   \n\n       T2R-11  T2R-12  T2R-13  T2R-14  T2R-15  T2R-16  T2R-17  \n0         827     827     827     827     827     827     750  \n1         827     827     827     827     827     827     750  \n2         827     827     827     827     827     827     750  \n3         827     827     827     827     827     827     750  \n4         827     827     827     827     827     827     750  \n...       ...     ...     ...     ...     ...     ...     ...  \n26651     837     837     837     837     837     837     750  \n26652     837     837     837     837     837     837     750  \n26653     837     837     837     837     837     837     750  \n26654     837     837     837     837     837     837     750  \n26655     837     837     837     837     837     837     750  \n\n[26656 rows x 87 columns]",
      "text/html": "<div>\n<style scoped>\n    .dataframe tbody tr th:only-of-type {\n        vertical-align: middle;\n    }\n\n    .dataframe tbody tr th {\n        vertical-align: top;\n    }\n\n    .dataframe thead th {\n        text-align: right;\n    }\n</style>\n<table border=\"1\" class=\"dataframe\">\n  <thead>\n    <tr style=\"text-align: right;\">\n      <th></th>\n      <th>index</th>\n      <th>datetime</th>\n      <th>V1</th>\n      <th>V2</th>\n      <th>V3</th>\n      <th>V4</th>\n      <th>V5</th>\n      <th>V6</th>\n      <th>V7</th>\n      <th>V8</th>\n      <th>...</th>\n      <th>T2R-8</th>\n      <th>T2R-9</th>\n      <th>T2R-10</th>\n      <th>T2R-11</th>\n      <th>T2R-12</th>\n      <th>T2R-13</th>\n      <th>T2R-14</th>\n      <th>T2R-15</th>\n      <th>T2R-16</th>\n      <th>T2R-17</th>\n    </tr>\n  </thead>\n  <tbody>\n    <tr>\n      <th>0</th>\n      <td>1</td>\n      <td>2022/11/6 9:08</td>\n      <td>35.668999</td>\n      <td>36.146000</td>\n      <td>25.558001</td>\n      <td>26.195000</td>\n      <td>25.670000</td>\n      <td>15.702</td>\n      <td>16.690001</td>\n      <td>15.991</td>\n      <td>...</td>\n      <td>827</td>\n      <td>827</td>\n      <td>827</td>\n      <td>827</td>\n      <td>827</td>\n      <td>827</td>\n      <td>827</td>\n      <td>827</td>\n      <td>827</td>\n      <td>750</td>\n    </tr>\n    <tr>\n      <th>1</th>\n      <td>2</td>\n      <td>2022/11/6 9:09</td>\n      <td>35.995998</td>\n      <td>36.347000</td>\n      <td>25.382000</td>\n      <td>26.348000</td>\n      <td>26.131001</td>\n      <td>15.523</td>\n      <td>16.825001</td>\n      <td>15.871</td>\n      <td>...</td>\n      <td>827</td>\n      <td>827</td>\n      <td>827</td>\n      <td>827</td>\n      <td>827</td>\n      <td>827</td>\n      <td>827</td>\n      <td>827</td>\n      <td>827</td>\n      <td>750</td>\n    </tr>\n    <tr>\n      <th>2</th>\n      <td>3</td>\n      <td>2022/11/6 9:11</td>\n      <td>35.340000</td>\n      <td>36.311001</td>\n      <td>25.469999</td>\n      <td>26.093000</td>\n      <td>25.639000</td>\n      <td>15.564</td>\n      <td>15.564000</td>\n      <td>15.947</td>\n      <td>...</td>\n      <td>827</td>\n      <td>827</td>\n      <td>827</td>\n      <td>827</td>\n      <td>827</td>\n      <td>827</td>\n      <td>827</td>\n      <td>827</td>\n      <td>827</td>\n      <td>750</td>\n    </tr>\n    <tr>\n      <th>3</th>\n      <td>4</td>\n      <td>2022/11/6 9:12</td>\n      <td>35.585999</td>\n      <td>36.091000</td>\n      <td>25.250000</td>\n      <td>26.127001</td>\n      <td>25.670000</td>\n      <td>15.575</td>\n      <td>16.775999</td>\n      <td>15.936</td>\n      <td>...</td>\n      <td>827</td>\n      <td>827</td>\n      <td>827</td>\n      <td>827</td>\n      <td>827</td>\n      <td>827</td>\n      <td>827</td>\n      <td>827</td>\n      <td>827</td>\n      <td>750</td>\n    </tr>\n    <tr>\n      <th>4</th>\n      <td>5</td>\n      <td>2022/11/6 9:13</td>\n      <td>35.946999</td>\n      <td>36.256001</td>\n      <td>25.163000</td>\n      <td>26.399000</td>\n      <td>25.837999</td>\n      <td>15.460</td>\n      <td>16.580999</td>\n      <td>15.795</td>\n      <td>...</td>\n      <td>827</td>\n      <td>827</td>\n      <td>827</td>\n      <td>827</td>\n      <td>827</td>\n      <td>827</td>\n      <td>827</td>\n      <td>827</td>\n      <td>827</td>\n      <td>750</td>\n    </tr>\n    <tr>\n      <th>...</th>\n      <td>...</td>\n      <td>...</td>\n      <td>...</td>\n      <td>...</td>\n      <td>...</td>\n      <td>...</td>\n      <td>...</td>\n      <td>...</td>\n      <td>...</td>\n      <td>...</td>\n      <td>...</td>\n      <td>...</td>\n      <td>...</td>\n      <td>...</td>\n      <td>...</td>\n      <td>...</td>\n      <td>...</td>\n      <td>...</td>\n      <td>...</td>\n      <td>...</td>\n      <td>...</td>\n    </tr>\n    <tr>\n      <th>26651</th>\n      <td>26652</td>\n      <td>2023/3/1 3:49</td>\n      <td>24.594000</td>\n      <td>24.377001</td>\n      <td>29.191999</td>\n      <td>25.551001</td>\n      <td>27.016001</td>\n      <td>4.377</td>\n      <td>21.929001</td>\n      <td>24.459</td>\n      <td>...</td>\n      <td>837</td>\n      <td>837</td>\n      <td>837</td>\n      <td>837</td>\n      <td>837</td>\n      <td>837</td>\n      <td>837</td>\n      <td>837</td>\n      <td>837</td>\n      <td>750</td>\n    </tr>\n    <tr>\n      <th>26652</th>\n      <td>26653</td>\n      <td>2023/3/1 3:54</td>\n      <td>24.379000</td>\n      <td>24.424999</td>\n      <td>29.253000</td>\n      <td>25.652000</td>\n      <td>27.188000</td>\n      <td>4.415</td>\n      <td>22.017000</td>\n      <td>24.534</td>\n      <td>...</td>\n      <td>837</td>\n      <td>837</td>\n      <td>837</td>\n      <td>837</td>\n      <td>837</td>\n      <td>837</td>\n      <td>837</td>\n      <td>837</td>\n      <td>837</td>\n      <td>750</td>\n    </tr>\n    <tr>\n      <th>26653</th>\n      <td>26654</td>\n      <td>2023/3/1 4:00</td>\n      <td>24.407000</td>\n      <td>24.312000</td>\n      <td>29.010000</td>\n      <td>25.382000</td>\n      <td>26.813000</td>\n      <td>4.354</td>\n      <td>21.726000</td>\n      <td>24.204</td>\n      <td>...</td>\n      <td>837</td>\n      <td>837</td>\n      <td>837</td>\n      <td>837</td>\n      <td>837</td>\n      <td>837</td>\n      <td>837</td>\n      <td>837</td>\n      <td>837</td>\n      <td>750</td>\n    </tr>\n    <tr>\n      <th>26654</th>\n      <td>26655</td>\n      <td>2023/3/1 4:05</td>\n      <td>24.636000</td>\n      <td>24.409000</td>\n      <td>29.162001</td>\n      <td>25.551001</td>\n      <td>27.032000</td>\n      <td>4.362</td>\n      <td>21.813000</td>\n      <td>21.813</td>\n      <td>...</td>\n      <td>837</td>\n      <td>837</td>\n      <td>837</td>\n      <td>837</td>\n      <td>837</td>\n      <td>837</td>\n      <td>837</td>\n      <td>837</td>\n      <td>837</td>\n      <td>750</td>\n    </tr>\n    <tr>\n      <th>26655</th>\n      <td>26656</td>\n      <td>2023/3/1 4:10</td>\n      <td>24.236000</td>\n      <td>24.054001</td>\n      <td>28.874001</td>\n      <td>25.282000</td>\n      <td>27.125000</td>\n      <td>4.384</td>\n      <td>21.944000</td>\n      <td>24.444</td>\n      <td>...</td>\n      <td>837</td>\n      <td>837</td>\n      <td>837</td>\n      <td>837</td>\n      <td>837</td>\n      <td>837</td>\n      <td>837</td>\n      <td>837</td>\n      <td>837</td>\n      <td>750</td>\n    </tr>\n  </tbody>\n</table>\n<p>26656 rows × 87 columns</p>\n</div>"
     },
     "execution_count": 2,
     "metadata": {},
     "output_type": "execute_result"
    }
   ],
   "source": [
    "# 数据提取\n",
    "df_train = pd.read_csv(\"./datasets/train.csv\")\n",
    "df_test = pd.read_csv(\"./datasets/test.csv\")\n",
    "\n",
    "# 重命名\n",
    "df_train.columns = (\n",
    "        ['index', 'datetime'] +\n",
    "        [f'V{i + 1}' for i in range(17)] + [f'T1-{i + 1}' for i in range(17)] + [f'T2-{i + 1}' for i in range(17)] +\n",
    "        [f'T1R-{i + 1}' for i in range(17)] + [f'T2R-{i + 1}' for i in range(17)]\n",
    "\n",
    ")\n",
    "df_test.columns = df_train.columns[:53]\n",
    "df_train"
   ],
   "metadata": {
    "collapsed": false,
    "ExecuteTime": {
     "end_time": "2023-07-21T05:23:11.807869Z",
     "start_time": "2023-07-21T05:23:11.614896Z"
    }
   }
  },
  {
   "cell_type": "markdown",
   "source": [
    "## 特征工程"
   ],
   "metadata": {
    "collapsed": false
   }
  },
  {
   "cell_type": "code",
   "execution_count": 3,
   "outputs": [
    {
     "data": {
      "text/plain": "Index(['index', 'datetime', 'V1', 'V2', 'V3', 'V4', 'V5', 'V6', 'V7', 'V8',\n       'V9', 'V10', 'V11', 'V12', 'V13', 'V14', 'V15', 'V16', 'V17', 'T1-1',\n       'T1-2', 'T1-3', 'T1-4', 'T1-5', 'T1-6', 'T1-7', 'T1-8', 'T1-9', 'T1-10',\n       'T1-11', 'T1-12', 'T1-13', 'T1-14', 'T1-15', 'T1-16', 'T1-17', 'T2-1',\n       'T2-2', 'T2-3', 'T2-4', 'T2-5', 'T2-6', 'T2-7', 'T2-8', 'T2-9', 'T2-10',\n       'T2-11', 'T2-12', 'T2-13', 'T2-14', 'T2-15', 'T2-16', 'T2-17', 'T1R-1',\n       'T1R-2', 'T1R-3', 'T1R-4', 'T1R-5', 'T1R-6', 'T1R-7', 'T1R-8', 'T1R-9',\n       'T1R-10', 'T1R-11', 'T1R-12', 'T1R-13', 'T1R-14', 'T1R-15', 'T1R-16',\n       'T1R-17', 'T2R-1', 'T2R-2', 'T2R-3', 'T2R-4', 'T2R-5', 'T2R-6', 'T2R-7',\n       'T2R-8', 'T2R-9', 'T2R-10', 'T2R-11', 'T2R-12', 'T2R-13', 'T2R-14',\n       'T2R-15', 'T2R-16', 'T2R-17', 'timestamp', 'year', 'month', 'day',\n       'hour', 'minute', 'dayofweek'],\n      dtype='object')"
     },
     "execution_count": 3,
     "metadata": {},
     "output_type": "execute_result"
    }
   ],
   "source": [
    "def generate_features(df, feature_types: [str, ...]):\n",
    "    df['timestamp'] = pd.to_datetime(df['datetime'])\n",
    "    df = df.sort_values('timestamp')\n",
    "\n",
    "    # 时间特征\n",
    "    if 'time' in feature_types:\n",
    "        df['year'] = df['timestamp'].dt.year\n",
    "        df['month'] = df['timestamp'].dt.month\n",
    "        df['day'] = df['timestamp'].dt.day\n",
    "        df['hour'] = df['timestamp'].dt.hour\n",
    "        df['minute'] = df['timestamp'].dt.minute\n",
    "        df['dayofweek'] = df['timestamp'].dt.dayofweek\n",
    "\n",
    "    # 累积统计特征\n",
    "    if 'statistical' in feature_types:\n",
    "        for i in range(1, 18):\n",
    "            df[f'T1-{i}_mean'] = df[[f'T1-{j}' for j in range(1, i + 1)]].mean(axis=1)\n",
    "            df[f'T1-{i}_std'] = df[[f'T1-{j}' for j in range(1, i + 1)]].std(axis=1)\n",
    "\n",
    "            df[f'T2-{i}_mean'] = df[[f'T2-{j}' for j in range(1, i + 1)]].mean(axis=1)\n",
    "            df[f'T2-{i}_std'] = df[[f'T2-{j}' for j in range(1, i + 1)]].std(axis=1)\n",
    "\n",
    "            df[f'V{i}_mean'] = df[[f'V{j}' for j in range(1, i + 1)]].mean(axis=1)\n",
    "            df[f'V{i}_std'] = df[[f'V{j}' for j in range(1, i + 1)]].std(axis=1)\n",
    "\n",
    "    # 上下温度区总体特征\n",
    "    if 'overall' in feature_types:\n",
    "        # Average, min, max, and standard deviation\n",
    "        df['T1_mean'] = df[[f'T1-{i}' for i in range(1, 18)]].mean(axis=1)\n",
    "        df['T1_min'] = df[[f'T1-{i}' for i in range(1, 18)]].min(axis=1)\n",
    "        df['T1_max'] = df[[f'T1-{i}' for i in range(1, 18)]].max(axis=1)\n",
    "        df['T1_std'] = df[[f'T1-{i}' for i in range(1, 18)]].std(axis=1)\n",
    "\n",
    "        df['T2_mean'] = df[[f'T2-{i}' for i in range(1, 18)]].mean(axis=1)\n",
    "        df['T2_min'] = df[[f'T2-{i}' for i in range(1, 18)]].min(axis=1)\n",
    "        df['T2_max'] = df[[f'T2-{i}' for i in range(1, 18)]].max(axis=1)\n",
    "        df['T2_std'] = df[[f'T2-{i}' for i in range(1, 18)]].std(axis=1)\n",
    "\n",
    "        # Difference and ratio between upper and lower heating rods\n",
    "        df['T1_T2_diff'] = df['T1_mean'] - df['T2_mean']\n",
    "        df['T1_T2_ratio'] = df['T1_mean'] / df['T2_mean']\n",
    "\n",
    "    # 上下温度区交互特征\n",
    "    if 'interaction' in feature_types:\n",
    "        for i in range(1, 18):\n",
    "            df[f'T1-{i}_T2-{i}_diff'] = df[f'T1-{i}'] - df[f'T2-{i}']\n",
    "            df[f'T1-{i}_T2-{i}_ratio'] = df[f'T1-{i}'] / df[f'T2-{i}']\n",
    "            df[f'T1-{i}_T2-{i}_interaction'] = df[f'T1-{i}'] * df[f'T2-{i}']\n",
    "\n",
    "    # 相邻数据点的差值\n",
    "    if 'difference' in feature_types:\n",
    "        for i in range(1, 17):\n",
    "            df[f'T1-{i}_T1-{i + 1}_diff'] = df[f'T1-{i}'] - df[f'T1-{i + 1}']\n",
    "            df[f'T2-{i}_T2-{i + 1}_diff'] = df[f'T2-{i}'] - df[f'T2-{i + 1}']\n",
    "            df[f'V{i}_V{i + 1}_diff'] = df[f'V{i}'] - df[f'V{i + 1}']\n",
    "\n",
    "    # 比例特征\n",
    "    if 'ratio' in feature_types:\n",
    "        for i in range(1, 18):\n",
    "            df[f'T1-{i}_V{i}_ratio'] = df[f'T1-{i}'] / df[f'V{i}']\n",
    "            df[f'T2-{i}_V{i}_ratio'] = df[f'T2-{i}'] / df[f'V{i}']\n",
    "            df[f'T1-{i}_V{i}_interaction'] = df[f'T1-{i}'] * df[f'V{i}']\n",
    "            df[f'T2-{i}_V{i}_interaction'] = df[f'T2-{i}'] * df[f'V{i}']\n",
    "\n",
    "    # 滑动窗口特征\n",
    "    if 'rolling_window' in feature_types:\n",
    "        window_sizes = [i for i in range(1, 5)]  # Change this list according to your needs\n",
    "        for window_size in window_sizes:\n",
    "            for i in range(1, 18):\n",
    "                df[f'T1-{i}_rolling_mean_{window_size}'] = df[f'T1-{i}'].rolling(window_size).mean()\n",
    "                df[f'T2-{i}_rolling_mean_{window_size}'] = df[f'T2-{i}'].rolling(window_size).mean()\n",
    "                df[f'V{i}_rolling_mean_{window_size}'] = df[f'V{i}'].rolling(window_size).mean()\n",
    "\n",
    "    # 空间梯度特征\n",
    "    # 假设加热棒之间的空间距离是均匀的\n",
    "    if 'spatial_gradient' in feature_types:\n",
    "        for i in range(1, 17):\n",
    "            df[f'T1-{i}_T1-{i + 1}_gradient'] = (df[f'T1-{i + 1}'] - df[f'T1-{i}']) / i\n",
    "            df[f'T2-{i}_T2-{i + 1}_gradient'] = (df[f'T2-{i + 1}'] - df[f'T2-{i}']) / i\n",
    "\n",
    "    # 时间梯度特征\n",
    "    if 'time_gradient' in feature_types:\n",
    "        for i in range(1, 18):\n",
    "            df[f'T1-{i}_time_gradient'] = df[f'T1-{i}'].diff()\n",
    "            df[f'T2-{i}_time_gradient'] = df[f'T2-{i}'].diff()\n",
    "            df[f'V{i}_time_gradient'] = df[f'V{i}'].diff()\n",
    "\n",
    "    # 时空梯度特征\n",
    "    if 'time_spatial_gradient' in feature_types:\n",
    "        for i in range(1, 17):\n",
    "            df[f'T1-{i}_T1-{i + 1}_time_gradient'] = df[f'T1-{i + 1}'].diff() - df[f'T1-{i}'].diff()\n",
    "            df[f'T2-{i}_T2-{i + 1}_time_gradient'] = df[f'T2-{i + 1}'].diff() - df[f'T2-{i}'].diff()\n",
    "            df[f'V{i}_V{i + 1}_time_gradient'] = df[f'V{i + 1}'].diff() - df[f'V{i}'].diff()\n",
    "\n",
    "    return df\n",
    "\n",
    "\n",
    "# 要使用的特征类型\n",
    "#\n",
    "# use_feature_types = ['time', 'statistical', 'overall', 'interaction', 'difference', 'ratio',\n",
    "#                      'rolling_window',\n",
    "#                      'spatial_gradient', 'time_gradient', 'time_spatial_gradient']\n",
    "use_feature_types = ['time']\n",
    "df_add = generate_features(df_train.copy(), use_feature_types)\n",
    "df_add_test = generate_features(df_train.copy(), use_feature_types)\n",
    "\n",
    "df_add.columns"
   ],
   "metadata": {
    "collapsed": false,
    "ExecuteTime": {
     "end_time": "2023-07-21T05:23:11.881948Z",
     "start_time": "2023-07-21T05:23:11.807332Z"
    }
   }
  },
  {
   "cell_type": "markdown",
   "source": [
    "## 训练前预处理"
   ],
   "metadata": {
    "collapsed": false
   }
  },
  {
   "cell_type": "code",
   "execution_count": 4,
   "outputs": [
    {
     "data": {
      "text/plain": "       T1R-1  T1R-2  T1R-3  T1R-4  T1R-5  T1R-6  T1R-7  T1R-8  T1R-9  T1R-10  \\\n0        244    312    399    500    567    647    730    827    827     827   \n1        244    312    399    500    567    647    731    827    827     827   \n2        245    312    399    500    567    647    731    827    827     827   \n3        245    312    399    500    567    647    732    827    827     827   \n4        245    312    399    500    567    647    732    827    827     827   \n...      ...    ...    ...    ...    ...    ...    ...    ...    ...     ...   \n26651    306    374    447    521    576    659    735    837    837     837   \n26652    306    375    447    520    576    658    736    837    837     837   \n26653    306    375    448    521    576    658    735    837    837     837   \n26654    306    374    448    521    576    659    735    837    837     837   \n26655    306    374    447    521    576    658    735    837    837     837   \n\n       ...  T2R-8  T2R-9  T2R-10  T2R-11  T2R-12  T2R-13  T2R-14  T2R-15  \\\n0      ...    827    827     827     827     827     827     827     827   \n1      ...    827    827     827     827     827     827     827     827   \n2      ...    827    827     827     827     827     827     827     827   \n3      ...    827    827     827     827     827     827     827     827   \n4      ...    827    827     827     827     827     827     827     827   \n...    ...    ...    ...     ...     ...     ...     ...     ...     ...   \n26651  ...    837    837     837     837     837     837     837     837   \n26652  ...    837    837     837     837     837     837     837     837   \n26653  ...    837    837     837     837     837     837     837     837   \n26654  ...    837    837     837     837     837     837     837     837   \n26655  ...    837    837     837     837     837     837     837     837   \n\n       T2R-16  T2R-17  \n0         827     750  \n1         827     750  \n2         827     750  \n3         827     750  \n4         827     750  \n...       ...     ...  \n26651     837     750  \n26652     837     750  \n26653     837     750  \n26654     837     750  \n26655     837     750  \n\n[26656 rows x 34 columns]",
      "text/html": "<div>\n<style scoped>\n    .dataframe tbody tr th:only-of-type {\n        vertical-align: middle;\n    }\n\n    .dataframe tbody tr th {\n        vertical-align: top;\n    }\n\n    .dataframe thead th {\n        text-align: right;\n    }\n</style>\n<table border=\"1\" class=\"dataframe\">\n  <thead>\n    <tr style=\"text-align: right;\">\n      <th></th>\n      <th>T1R-1</th>\n      <th>T1R-2</th>\n      <th>T1R-3</th>\n      <th>T1R-4</th>\n      <th>T1R-5</th>\n      <th>T1R-6</th>\n      <th>T1R-7</th>\n      <th>T1R-8</th>\n      <th>T1R-9</th>\n      <th>T1R-10</th>\n      <th>...</th>\n      <th>T2R-8</th>\n      <th>T2R-9</th>\n      <th>T2R-10</th>\n      <th>T2R-11</th>\n      <th>T2R-12</th>\n      <th>T2R-13</th>\n      <th>T2R-14</th>\n      <th>T2R-15</th>\n      <th>T2R-16</th>\n      <th>T2R-17</th>\n    </tr>\n  </thead>\n  <tbody>\n    <tr>\n      <th>0</th>\n      <td>244</td>\n      <td>312</td>\n      <td>399</td>\n      <td>500</td>\n      <td>567</td>\n      <td>647</td>\n      <td>730</td>\n      <td>827</td>\n      <td>827</td>\n      <td>827</td>\n      <td>...</td>\n      <td>827</td>\n      <td>827</td>\n      <td>827</td>\n      <td>827</td>\n      <td>827</td>\n      <td>827</td>\n      <td>827</td>\n      <td>827</td>\n      <td>827</td>\n      <td>750</td>\n    </tr>\n    <tr>\n      <th>1</th>\n      <td>244</td>\n      <td>312</td>\n      <td>399</td>\n      <td>500</td>\n      <td>567</td>\n      <td>647</td>\n      <td>731</td>\n      <td>827</td>\n      <td>827</td>\n      <td>827</td>\n      <td>...</td>\n      <td>827</td>\n      <td>827</td>\n      <td>827</td>\n      <td>827</td>\n      <td>827</td>\n      <td>827</td>\n      <td>827</td>\n      <td>827</td>\n      <td>827</td>\n      <td>750</td>\n    </tr>\n    <tr>\n      <th>2</th>\n      <td>245</td>\n      <td>312</td>\n      <td>399</td>\n      <td>500</td>\n      <td>567</td>\n      <td>647</td>\n      <td>731</td>\n      <td>827</td>\n      <td>827</td>\n      <td>827</td>\n      <td>...</td>\n      <td>827</td>\n      <td>827</td>\n      <td>827</td>\n      <td>827</td>\n      <td>827</td>\n      <td>827</td>\n      <td>827</td>\n      <td>827</td>\n      <td>827</td>\n      <td>750</td>\n    </tr>\n    <tr>\n      <th>3</th>\n      <td>245</td>\n      <td>312</td>\n      <td>399</td>\n      <td>500</td>\n      <td>567</td>\n      <td>647</td>\n      <td>732</td>\n      <td>827</td>\n      <td>827</td>\n      <td>827</td>\n      <td>...</td>\n      <td>827</td>\n      <td>827</td>\n      <td>827</td>\n      <td>827</td>\n      <td>827</td>\n      <td>827</td>\n      <td>827</td>\n      <td>827</td>\n      <td>827</td>\n      <td>750</td>\n    </tr>\n    <tr>\n      <th>4</th>\n      <td>245</td>\n      <td>312</td>\n      <td>399</td>\n      <td>500</td>\n      <td>567</td>\n      <td>647</td>\n      <td>732</td>\n      <td>827</td>\n      <td>827</td>\n      <td>827</td>\n      <td>...</td>\n      <td>827</td>\n      <td>827</td>\n      <td>827</td>\n      <td>827</td>\n      <td>827</td>\n      <td>827</td>\n      <td>827</td>\n      <td>827</td>\n      <td>827</td>\n      <td>750</td>\n    </tr>\n    <tr>\n      <th>...</th>\n      <td>...</td>\n      <td>...</td>\n      <td>...</td>\n      <td>...</td>\n      <td>...</td>\n      <td>...</td>\n      <td>...</td>\n      <td>...</td>\n      <td>...</td>\n      <td>...</td>\n      <td>...</td>\n      <td>...</td>\n      <td>...</td>\n      <td>...</td>\n      <td>...</td>\n      <td>...</td>\n      <td>...</td>\n      <td>...</td>\n      <td>...</td>\n      <td>...</td>\n      <td>...</td>\n    </tr>\n    <tr>\n      <th>26651</th>\n      <td>306</td>\n      <td>374</td>\n      <td>447</td>\n      <td>521</td>\n      <td>576</td>\n      <td>659</td>\n      <td>735</td>\n      <td>837</td>\n      <td>837</td>\n      <td>837</td>\n      <td>...</td>\n      <td>837</td>\n      <td>837</td>\n      <td>837</td>\n      <td>837</td>\n      <td>837</td>\n      <td>837</td>\n      <td>837</td>\n      <td>837</td>\n      <td>837</td>\n      <td>750</td>\n    </tr>\n    <tr>\n      <th>26652</th>\n      <td>306</td>\n      <td>375</td>\n      <td>447</td>\n      <td>520</td>\n      <td>576</td>\n      <td>658</td>\n      <td>736</td>\n      <td>837</td>\n      <td>837</td>\n      <td>837</td>\n      <td>...</td>\n      <td>837</td>\n      <td>837</td>\n      <td>837</td>\n      <td>837</td>\n      <td>837</td>\n      <td>837</td>\n      <td>837</td>\n      <td>837</td>\n      <td>837</td>\n      <td>750</td>\n    </tr>\n    <tr>\n      <th>26653</th>\n      <td>306</td>\n      <td>375</td>\n      <td>448</td>\n      <td>521</td>\n      <td>576</td>\n      <td>658</td>\n      <td>735</td>\n      <td>837</td>\n      <td>837</td>\n      <td>837</td>\n      <td>...</td>\n      <td>837</td>\n      <td>837</td>\n      <td>837</td>\n      <td>837</td>\n      <td>837</td>\n      <td>837</td>\n      <td>837</td>\n      <td>837</td>\n      <td>837</td>\n      <td>750</td>\n    </tr>\n    <tr>\n      <th>26654</th>\n      <td>306</td>\n      <td>374</td>\n      <td>448</td>\n      <td>521</td>\n      <td>576</td>\n      <td>659</td>\n      <td>735</td>\n      <td>837</td>\n      <td>837</td>\n      <td>837</td>\n      <td>...</td>\n      <td>837</td>\n      <td>837</td>\n      <td>837</td>\n      <td>837</td>\n      <td>837</td>\n      <td>837</td>\n      <td>837</td>\n      <td>837</td>\n      <td>837</td>\n      <td>750</td>\n    </tr>\n    <tr>\n      <th>26655</th>\n      <td>306</td>\n      <td>374</td>\n      <td>447</td>\n      <td>521</td>\n      <td>576</td>\n      <td>658</td>\n      <td>735</td>\n      <td>837</td>\n      <td>837</td>\n      <td>837</td>\n      <td>...</td>\n      <td>837</td>\n      <td>837</td>\n      <td>837</td>\n      <td>837</td>\n      <td>837</td>\n      <td>837</td>\n      <td>837</td>\n      <td>837</td>\n      <td>837</td>\n      <td>750</td>\n    </tr>\n  </tbody>\n</table>\n<p>26656 rows × 34 columns</p>\n</div>"
     },
     "execution_count": 4,
     "metadata": {},
     "output_type": "execute_result"
    }
   ],
   "source": [
    "target_cols = df_add.columns[53: 53 + 17 * 2].tolist()\n",
    "feature_cols = [col for col in df_add.columns if col not in target_cols + ['index', 'datetime', 'timestamp']]\n",
    "X = df_add[feature_cols]\n",
    "X_test = df_add_test[feature_cols]\n",
    "y = df_add[target_cols]\n",
    "\n",
    "# 压缩内存\n",
    "y"
   ],
   "metadata": {
    "collapsed": false,
    "ExecuteTime": {
     "end_time": "2023-07-21T05:23:11.888388Z",
     "start_time": "2023-07-21T05:23:11.865835Z"
    }
   }
  },
  {
   "cell_type": "markdown",
   "source": [
    "## 模型训练"
   ],
   "metadata": {
    "collapsed": false
   }
  },
  {
   "cell_type": "code",
   "execution_count": null,
   "outputs": [],
   "source": [
    "NUM_ROUND = 3"
   ],
   "metadata": {
    "collapsed": false
   }
  },
  {
   "cell_type": "markdown",
   "source": [
    "### 超参数搜索"
   ],
   "metadata": {
    "collapsed": false
   }
  },
  {
   "cell_type": "code",
   "execution_count": null,
   "outputs": [],
   "source": [
    "def objective(trial, x, y_target):\n",
    "    # 超参数范围\n",
    "    params = {\n",
    "            'boosting_type': 'gbdt',\n",
    "            'objective': 'regression',\n",
    "            'metric': 'mae',\n",
    "            'min_child_weight': 5,\n",
    "            'num_leaves': trial.suggest_int('num_leaves', 2, 256),\n",
    "            'lambda_l2': 10,\n",
    "            'feature_fraction': trial.suggest_float('feature_fraction', 0.4, 1.0),\n",
    "            'bagging_fraction': trial.suggest_float('bagging_fraction', 0.4, 1.0),\n",
    "            'bagging_freq': trial.suggest_int('bagging_freq', 1, 7),\n",
    "            'learning_rate': trial.suggest_float('learning_rate', 0.01, 0.1, log=True),\n",
    "            'seed': 2023,\n",
    "            'nthread': 16,\n",
    "            'verbose': -1,\n",
    "    }\n",
    "\n",
    "    # 5-Fold 交叉验证\n",
    "    kf = KFold(n_splits=5, random_state=42, shuffle=True)\n",
    "    mae_scores_target = []\n",
    "\n",
    "    for train_index, val_index in kf.split(X):\n",
    "        X_train, X_val = x.iloc[train_index], x.iloc[val_index]\n",
    "        y_train, y_val = y_target.iloc[train_index], y_target.iloc[val_index]\n",
    "\n",
    "        train_data = lgb.Dataset(X_train, label=y_train)\n",
    "        val_data = lgb.Dataset(X_val, label=y_val, reference=train_data)\n",
    "\n",
    "        gbm = lgb.train(params, train_data, valid_sets=val_data, num_boost_round=NUM_ROUND)\n",
    "\n",
    "        y_val_pred = gbm.predict(X_val, num_iteration=gbm.best_iteration)\n",
    "        mae = mean_absolute_error(y_val, y_val_pred)\n",
    "\n",
    "        mae_scores_target.append(mae)\n",
    "\n",
    "    # 平均mae\n",
    "    average_mae = np.mean(mae_scores_target)\n",
    "    trial.report(average_mae, step=0)\n",
    "\n",
    "    #\n",
    "    return average_mae"
   ],
   "metadata": {
    "collapsed": false
   }
  },
  {
   "cell_type": "markdown",
   "source": [
    "### 多目标训练"
   ],
   "metadata": {
    "collapsed": false
   }
  },
  {
   "cell_type": "code",
   "execution_count": null,
   "outputs": [],
   "source": [
    "\n",
    "def optimize_by_multi_targets():\n",
    "    for i, target in enumerate(y.columns):\n",
    "        y_target = y[target]\n",
    "\n",
    "        # 设定目标函数\n",
    "        study = optuna.create_study(direction='minimize')\n",
    "        study.optimize(lambda trial: objective(trial, X, y_target), n_trials=100)\n",
    "\n",
    "        # Get the best hyperparameters\n",
    "        best_params = study.best_trial.params\n",
    "        best_params['boosting_type'] = 'gbdt'\n",
    "        best_params['objective'] = 'regression_l1'\n",
    "        best_params['metric'] = 'mae'\n",
    "        best_params['verbose'] = 0\n",
    "\n",
    "        # Train and save a model using the best hyperparameters\n",
    "        train_data = lgb.Dataset(X, label=y_target)\n",
    "        gbm_best = lgb.train(best_params, train_data, num_boost_round=5000)\n",
    "\n",
    "        dump(gbm_best, f'./models/model_{i}.joblib')\n",
    "\n",
    "        # 打印\n",
    "        print('Best trial:')\n",
    "        best_trial = study.best_trial\n",
    "\n",
    "        print(f'Value: {best_trial.value}')\n",
    "\n",
    "        print('Params:')\n",
    "        for key, value in best_trial.params.items():\n",
    "            print(f'{key}: {value}')\n",
    "\n",
    "        # 可视化\n",
    "        ov.plot_optimization_history(study).show()\n",
    "        ov.plot_param_importances(study).show()\n",
    "\n",
    "\n",
    "optimize_by_multi_targets()"
   ],
   "metadata": {
    "collapsed": false
   }
  },
  {
   "cell_type": "markdown",
   "source": [
    "## 模型推理"
   ],
   "metadata": {
    "collapsed": false
   }
  },
  {
   "cell_type": "code",
   "execution_count": null,
   "outputs": [],
   "source": [
    "def predict_by_multi_targets():\n",
    "    # Initialize an empty dataframe to store the predictions\n",
    "    df_predictions = pd.DataFrame()\n",
    "\n",
    "    # For each target, load the corresponding model and make predictions\n",
    "    for i in range(len(y.columns)):\n",
    "        # Load the model\n",
    "        gbm_best_saved = load(f'model_{i}.joblib')\n",
    "\n",
    "        # Make predictions\n",
    "        predictions = gbm_best_saved.predict(X_test)\n",
    "\n",
    "        # Store the predictions in the dataframe\n",
    "        df_predictions[f'target_{i}'] = predictions\n",
    "\n",
    "    # Save the predictions to a csv file\n",
    "    df_predictions.to_csv('predictions.csv', index=False)\n",
    "\n"
   ],
   "metadata": {
    "collapsed": false
   }
  }
 ],
 "metadata": {
  "kernelspec": {
   "display_name": "Python 3",
   "language": "python",
   "name": "python3"
  },
  "language_info": {
   "codemirror_mode": {
    "name": "ipython",
    "version": 2
   },
   "file_extension": ".py",
   "mimetype": "text/x-python",
   "name": "python",
   "nbconvert_exporter": "python",
   "pygments_lexer": "ipython2",
   "version": "2.7.6"
  }
 },
 "nbformat": 4,
 "nbformat_minor": 0
}
