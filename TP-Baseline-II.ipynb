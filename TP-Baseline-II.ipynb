{
 "cells": [
  {
   "cell_type": "markdown",
   "source": [
    "# 锂电池温度预测\n",
    "锂离子电池材料的主要生产设备是电炉，研究烧结过程的数字化建模，通过电炉空间温度推测产品内部温度，设计烧结过程的温度场和浓度场的最优控制律，搭建产品制备过程运行平台，有望最终实现该过程的效率提升和协同优化，达到提高产品一致性，降低生产能耗的目标。初赛提供了电炉17个温区的实际生产数据，分别是电炉上部17组加热棒设定温度T1-1~T1-17，电炉下部17组加热棒设定温度T2-1~T2-17，底部17组进气口的设定进气流量V1-V17，选手需要根据提供的数据样本构建模型，预测电炉上下部空间17个测温点的测量温度值。初赛考核办法采用测试集各行数据的加热棒上部温度设定值、加热棒下部温度设定值、进气流量3类数据作为输入，选手分别预测上部空间测量温度、下部空间测量温度。将选手预测的上部空间测量温度、下部空间测量温度与测试集数据的测量值进行比较。采用MAE平均绝对误差作为评价指标。"
   ],
   "metadata": {
    "collapsed": false
   }
  },
  {
   "cell_type": "markdown",
   "source": [
    "## 环境配置"
   ],
   "metadata": {
    "collapsed": false
   }
  },
  {
   "cell_type": "code",
   "execution_count": 1,
   "metadata": {
    "collapsed": true,
    "ExecuteTime": {
     "end_time": "2023-07-22T08:28:54.224076Z",
     "start_time": "2023-07-22T08:28:52.975546Z"
    }
   },
   "outputs": [],
   "source": [
    "import pandas as pd\n",
    "import lightgbm as lgb\n",
    "from sklearn.metrics import mean_absolute_error\n",
    "from sklearn.model_selection import KFold\n",
    "import optuna\n",
    "import optuna.visualization as ov\n",
    "from optuna.exceptions import TrialPruned\n",
    "from optuna.integration import LightGBMPruningCallback\n",
    "from optuna.pruners import MedianPruner\n",
    "from joblib import dump, load, Parallel, delayed\n",
    "import numpy as np\n",
    "from tqdm import tqdm"
   ]
  },
  {
   "cell_type": "code",
   "execution_count": 2,
   "outputs": [
    {
     "name": "stdout",
     "output_type": "stream",
     "text": [
      "/home/ubuntu\r\n"
     ]
    }
   ],
   "source": [
    "!pwd"
   ],
   "metadata": {
    "collapsed": false,
    "ExecuteTime": {
     "end_time": "2023-07-22T08:28:54.347371Z",
     "start_time": "2023-07-22T08:28:54.267776Z"
    }
   }
  },
  {
   "cell_type": "code",
   "execution_count": 3,
   "outputs": [],
   "source": [
    "# !conda install pandas numpy scikit-learn lightgbm optuna joblib plotly nbformat kaleido  matplotlib -y\n",
    "# m6x+T3HfZbGA[D aa71511fabbf4bc690fc9c6b871b71bb"
   ],
   "metadata": {
    "collapsed": false,
    "ExecuteTime": {
     "end_time": "2023-07-22T08:28:54.355673Z",
     "start_time": "2023-07-22T08:28:54.351277Z"
    }
   }
  },
  {
   "cell_type": "markdown",
   "source": [
    "## 参数配置"
   ],
   "metadata": {
    "collapsed": false
   }
  },
  {
   "cell_type": "code",
   "execution_count": 4,
   "outputs": [],
   "source": [
    "\n",
    "# 数据集路径\n",
    "TRAIN_PATH = './datasets/train.csv'\n",
    "TEST_PATH = './datasets/test.csv'\n",
    "SUBMIT_PATH = './datasets/sample_submit.csv'\n",
    "\n",
    "# 模型保存路径\n",
    "MODEL_SAVE_PATH = './models'\n",
    "\n",
    "# 文件输出路径\n",
    "OUTPUT_PATH = './outputs'\n",
    "\n",
    "# 使用的特征\n",
    "USE_FEATURE_TYPES = ['timebase']\n",
    "USE_FEATURE_TYPES_ALL = ['timebase', 'time', 'statistical', 'overall', 'interaction', 'difference', 'ratio',\n",
    "                         'rolling_window',\n",
    "                         'spatial_gradient', 'time_gradient', 'time_spatial_gradient']\n",
    "# 硬件配置\n",
    "USE_CPU_CORES = 10\n",
    "\n",
    "# 超参数配置\n",
    "OPTUNA_ROUND = 30\n",
    "TRAIN_ROUND = 1000\n",
    "EARLY_STOPPING_ROUND = 20\n",
    "\n",
    "# 日志级别\n",
    "# optuna.logging.set_verbosity(optuna.logging.WARNING)"
   ],
   "metadata": {
    "collapsed": false,
    "ExecuteTime": {
     "end_time": "2023-07-22T08:28:54.368986Z",
     "start_time": "2023-07-22T08:28:54.361654Z"
    }
   }
  },
  {
   "cell_type": "markdown",
   "source": [
    "## 数据准备"
   ],
   "metadata": {
    "collapsed": false
   }
  },
  {
   "cell_type": "code",
   "execution_count": 5,
   "outputs": [
    {
     "data": {
      "text/plain": "       index        datetime         V1         V2         V3         V4  \\\n0          1  2022/11/6 9:08  35.668999  36.146000  25.558001  26.195000   \n1          2  2022/11/6 9:09  35.995998  36.347000  25.382000  26.348000   \n2          3  2022/11/6 9:11  35.340000  36.311001  25.469999  26.093000   \n3          4  2022/11/6 9:12  35.585999  36.091000  25.250000  26.127001   \n4          5  2022/11/6 9:13  35.946999  36.256001  25.163000  26.399000   \n...      ...             ...        ...        ...        ...        ...   \n26651  26652   2023/3/1 3:49  24.594000  24.377001  29.191999  25.551001   \n26652  26653   2023/3/1 3:54  24.379000  24.424999  29.253000  25.652000   \n26653  26654   2023/3/1 4:00  24.407000  24.312000  29.010000  25.382000   \n26654  26655   2023/3/1 4:05  24.636000  24.409000  29.162001  25.551001   \n26655  26656   2023/3/1 4:10  24.236000  24.054001  28.874001  25.282000   \n\n              V5      V6         V7      V8  ...  T2R-8  T2R-9  T2R-10  \\\n0      25.670000  15.702  16.690001  15.991  ...    827    827     827   \n1      26.131001  15.523  16.825001  15.871  ...    827    827     827   \n2      25.639000  15.564  15.564000  15.947  ...    827    827     827   \n3      25.670000  15.575  16.775999  15.936  ...    827    827     827   \n4      25.837999  15.460  16.580999  15.795  ...    827    827     827   \n...          ...     ...        ...     ...  ...    ...    ...     ...   \n26651  27.016001   4.377  21.929001  24.459  ...    837    837     837   \n26652  27.188000   4.415  22.017000  24.534  ...    837    837     837   \n26653  26.813000   4.354  21.726000  24.204  ...    837    837     837   \n26654  27.032000   4.362  21.813000  21.813  ...    837    837     837   \n26655  27.125000   4.384  21.944000  24.444  ...    837    837     837   \n\n       T2R-11  T2R-12  T2R-13  T2R-14  T2R-15  T2R-16  T2R-17  \n0         827     827     827     827     827     827     750  \n1         827     827     827     827     827     827     750  \n2         827     827     827     827     827     827     750  \n3         827     827     827     827     827     827     750  \n4         827     827     827     827     827     827     750  \n...       ...     ...     ...     ...     ...     ...     ...  \n26651     837     837     837     837     837     837     750  \n26652     837     837     837     837     837     837     750  \n26653     837     837     837     837     837     837     750  \n26654     837     837     837     837     837     837     750  \n26655     837     837     837     837     837     837     750  \n\n[26656 rows x 87 columns]",
      "text/html": "<div>\n<style scoped>\n    .dataframe tbody tr th:only-of-type {\n        vertical-align: middle;\n    }\n\n    .dataframe tbody tr th {\n        vertical-align: top;\n    }\n\n    .dataframe thead th {\n        text-align: right;\n    }\n</style>\n<table border=\"1\" class=\"dataframe\">\n  <thead>\n    <tr style=\"text-align: right;\">\n      <th></th>\n      <th>index</th>\n      <th>datetime</th>\n      <th>V1</th>\n      <th>V2</th>\n      <th>V3</th>\n      <th>V4</th>\n      <th>V5</th>\n      <th>V6</th>\n      <th>V7</th>\n      <th>V8</th>\n      <th>...</th>\n      <th>T2R-8</th>\n      <th>T2R-9</th>\n      <th>T2R-10</th>\n      <th>T2R-11</th>\n      <th>T2R-12</th>\n      <th>T2R-13</th>\n      <th>T2R-14</th>\n      <th>T2R-15</th>\n      <th>T2R-16</th>\n      <th>T2R-17</th>\n    </tr>\n  </thead>\n  <tbody>\n    <tr>\n      <th>0</th>\n      <td>1</td>\n      <td>2022/11/6 9:08</td>\n      <td>35.668999</td>\n      <td>36.146000</td>\n      <td>25.558001</td>\n      <td>26.195000</td>\n      <td>25.670000</td>\n      <td>15.702</td>\n      <td>16.690001</td>\n      <td>15.991</td>\n      <td>...</td>\n      <td>827</td>\n      <td>827</td>\n      <td>827</td>\n      <td>827</td>\n      <td>827</td>\n      <td>827</td>\n      <td>827</td>\n      <td>827</td>\n      <td>827</td>\n      <td>750</td>\n    </tr>\n    <tr>\n      <th>1</th>\n      <td>2</td>\n      <td>2022/11/6 9:09</td>\n      <td>35.995998</td>\n      <td>36.347000</td>\n      <td>25.382000</td>\n      <td>26.348000</td>\n      <td>26.131001</td>\n      <td>15.523</td>\n      <td>16.825001</td>\n      <td>15.871</td>\n      <td>...</td>\n      <td>827</td>\n      <td>827</td>\n      <td>827</td>\n      <td>827</td>\n      <td>827</td>\n      <td>827</td>\n      <td>827</td>\n      <td>827</td>\n      <td>827</td>\n      <td>750</td>\n    </tr>\n    <tr>\n      <th>2</th>\n      <td>3</td>\n      <td>2022/11/6 9:11</td>\n      <td>35.340000</td>\n      <td>36.311001</td>\n      <td>25.469999</td>\n      <td>26.093000</td>\n      <td>25.639000</td>\n      <td>15.564</td>\n      <td>15.564000</td>\n      <td>15.947</td>\n      <td>...</td>\n      <td>827</td>\n      <td>827</td>\n      <td>827</td>\n      <td>827</td>\n      <td>827</td>\n      <td>827</td>\n      <td>827</td>\n      <td>827</td>\n      <td>827</td>\n      <td>750</td>\n    </tr>\n    <tr>\n      <th>3</th>\n      <td>4</td>\n      <td>2022/11/6 9:12</td>\n      <td>35.585999</td>\n      <td>36.091000</td>\n      <td>25.250000</td>\n      <td>26.127001</td>\n      <td>25.670000</td>\n      <td>15.575</td>\n      <td>16.775999</td>\n      <td>15.936</td>\n      <td>...</td>\n      <td>827</td>\n      <td>827</td>\n      <td>827</td>\n      <td>827</td>\n      <td>827</td>\n      <td>827</td>\n      <td>827</td>\n      <td>827</td>\n      <td>827</td>\n      <td>750</td>\n    </tr>\n    <tr>\n      <th>4</th>\n      <td>5</td>\n      <td>2022/11/6 9:13</td>\n      <td>35.946999</td>\n      <td>36.256001</td>\n      <td>25.163000</td>\n      <td>26.399000</td>\n      <td>25.837999</td>\n      <td>15.460</td>\n      <td>16.580999</td>\n      <td>15.795</td>\n      <td>...</td>\n      <td>827</td>\n      <td>827</td>\n      <td>827</td>\n      <td>827</td>\n      <td>827</td>\n      <td>827</td>\n      <td>827</td>\n      <td>827</td>\n      <td>827</td>\n      <td>750</td>\n    </tr>\n    <tr>\n      <th>...</th>\n      <td>...</td>\n      <td>...</td>\n      <td>...</td>\n      <td>...</td>\n      <td>...</td>\n      <td>...</td>\n      <td>...</td>\n      <td>...</td>\n      <td>...</td>\n      <td>...</td>\n      <td>...</td>\n      <td>...</td>\n      <td>...</td>\n      <td>...</td>\n      <td>...</td>\n      <td>...</td>\n      <td>...</td>\n      <td>...</td>\n      <td>...</td>\n      <td>...</td>\n      <td>...</td>\n    </tr>\n    <tr>\n      <th>26651</th>\n      <td>26652</td>\n      <td>2023/3/1 3:49</td>\n      <td>24.594000</td>\n      <td>24.377001</td>\n      <td>29.191999</td>\n      <td>25.551001</td>\n      <td>27.016001</td>\n      <td>4.377</td>\n      <td>21.929001</td>\n      <td>24.459</td>\n      <td>...</td>\n      <td>837</td>\n      <td>837</td>\n      <td>837</td>\n      <td>837</td>\n      <td>837</td>\n      <td>837</td>\n      <td>837</td>\n      <td>837</td>\n      <td>837</td>\n      <td>750</td>\n    </tr>\n    <tr>\n      <th>26652</th>\n      <td>26653</td>\n      <td>2023/3/1 3:54</td>\n      <td>24.379000</td>\n      <td>24.424999</td>\n      <td>29.253000</td>\n      <td>25.652000</td>\n      <td>27.188000</td>\n      <td>4.415</td>\n      <td>22.017000</td>\n      <td>24.534</td>\n      <td>...</td>\n      <td>837</td>\n      <td>837</td>\n      <td>837</td>\n      <td>837</td>\n      <td>837</td>\n      <td>837</td>\n      <td>837</td>\n      <td>837</td>\n      <td>837</td>\n      <td>750</td>\n    </tr>\n    <tr>\n      <th>26653</th>\n      <td>26654</td>\n      <td>2023/3/1 4:00</td>\n      <td>24.407000</td>\n      <td>24.312000</td>\n      <td>29.010000</td>\n      <td>25.382000</td>\n      <td>26.813000</td>\n      <td>4.354</td>\n      <td>21.726000</td>\n      <td>24.204</td>\n      <td>...</td>\n      <td>837</td>\n      <td>837</td>\n      <td>837</td>\n      <td>837</td>\n      <td>837</td>\n      <td>837</td>\n      <td>837</td>\n      <td>837</td>\n      <td>837</td>\n      <td>750</td>\n    </tr>\n    <tr>\n      <th>26654</th>\n      <td>26655</td>\n      <td>2023/3/1 4:05</td>\n      <td>24.636000</td>\n      <td>24.409000</td>\n      <td>29.162001</td>\n      <td>25.551001</td>\n      <td>27.032000</td>\n      <td>4.362</td>\n      <td>21.813000</td>\n      <td>21.813</td>\n      <td>...</td>\n      <td>837</td>\n      <td>837</td>\n      <td>837</td>\n      <td>837</td>\n      <td>837</td>\n      <td>837</td>\n      <td>837</td>\n      <td>837</td>\n      <td>837</td>\n      <td>750</td>\n    </tr>\n    <tr>\n      <th>26655</th>\n      <td>26656</td>\n      <td>2023/3/1 4:10</td>\n      <td>24.236000</td>\n      <td>24.054001</td>\n      <td>28.874001</td>\n      <td>25.282000</td>\n      <td>27.125000</td>\n      <td>4.384</td>\n      <td>21.944000</td>\n      <td>24.444</td>\n      <td>...</td>\n      <td>837</td>\n      <td>837</td>\n      <td>837</td>\n      <td>837</td>\n      <td>837</td>\n      <td>837</td>\n      <td>837</td>\n      <td>837</td>\n      <td>837</td>\n      <td>750</td>\n    </tr>\n  </tbody>\n</table>\n<p>26656 rows × 87 columns</p>\n</div>"
     },
     "execution_count": 5,
     "metadata": {},
     "output_type": "execute_result"
    }
   ],
   "source": [
    "# 数据提取\n",
    "df_train = pd.read_csv(TRAIN_PATH)\n",
    "df_test = pd.read_csv(TEST_PATH)\n",
    "\n",
    "# 重命名\n",
    "df_train.columns = (\n",
    "        ['index', 'datetime'] +\n",
    "        [f'V{i + 1}' for i in range(17)] + [f'T1-{i + 1}' for i in range(17)] + [f'T2-{i + 1}' for i in range(17)] +\n",
    "        [f'T1R-{i + 1}' for i in range(17)] + [f'T2R-{i + 1}' for i in range(17)]\n",
    "\n",
    ")\n",
    "df_test.columns = df_train.columns[:53]\n",
    "df_train"
   ],
   "metadata": {
    "collapsed": false,
    "ExecuteTime": {
     "end_time": "2023-07-22T08:28:54.689620Z",
     "start_time": "2023-07-22T08:28:54.368943Z"
    }
   }
  },
  {
   "cell_type": "markdown",
   "source": [
    "## 特征工程"
   ],
   "metadata": {
    "collapsed": false
   }
  },
  {
   "cell_type": "code",
   "execution_count": 6,
   "outputs": [
    {
     "data": {
      "text/plain": "Index(['index', 'datetime', 'V1', 'V2', 'V3', 'V4', 'V5', 'V6', 'V7', 'V8',\n       'V9', 'V10', 'V11', 'V12', 'V13', 'V14', 'V15', 'V16', 'V17', 'T1-1',\n       'T1-2', 'T1-3', 'T1-4', 'T1-5', 'T1-6', 'T1-7', 'T1-8', 'T1-9', 'T1-10',\n       'T1-11', 'T1-12', 'T1-13', 'T1-14', 'T1-15', 'T1-16', 'T1-17', 'T2-1',\n       'T2-2', 'T2-3', 'T2-4', 'T2-5', 'T2-6', 'T2-7', 'T2-8', 'T2-9', 'T2-10',\n       'T2-11', 'T2-12', 'T2-13', 'T2-14', 'T2-15', 'T2-16', 'T2-17', 'T1R-1',\n       'T1R-2', 'T1R-3', 'T1R-4', 'T1R-5', 'T1R-6', 'T1R-7', 'T1R-8', 'T1R-9',\n       'T1R-10', 'T1R-11', 'T1R-12', 'T1R-13', 'T1R-14', 'T1R-15', 'T1R-16',\n       'T1R-17', 'T2R-1', 'T2R-2', 'T2R-3', 'T2R-4', 'T2R-5', 'T2R-6', 'T2R-7',\n       'T2R-8', 'T2R-9', 'T2R-10', 'T2R-11', 'T2R-12', 'T2R-13', 'T2R-14',\n       'T2R-15', 'T2R-16', 'T2R-17', 'timestamp', 'month', 'day', 'hour',\n       'minute', 'dayofweek', 'dayofyear', 'is_weekend', 'weekofyear'],\n      dtype='object')"
     },
     "execution_count": 6,
     "metadata": {},
     "output_type": "execute_result"
    }
   ],
   "source": [
    "def generate_features(df, feature_types: [str, ...]):\n",
    "    df['timestamp'] = pd.to_datetime(df['datetime'])\n",
    "    df = df.sort_values('timestamp')\n",
    "\n",
    "    # 时间特征-baseline\n",
    "    if 'timebase' in feature_types:\n",
    "        df['month'] = df['timestamp'].dt.month\n",
    "        df['day'] = df['timestamp'].dt.day\n",
    "        df['hour'] = df['timestamp'].dt.hour\n",
    "        df['minute'] = df['timestamp'].dt.minute\n",
    "        df['dayofweek'] = df['timestamp'].dt.dayofweek\n",
    "        df[\"dayofyear\"] = df[\"timestamp\"].dt.dayofyear\n",
    "        df[\"is_weekend\"] = df[\"timestamp\"].dt.dayofweek // 6\n",
    "        df[\"weekofyear\"] = df[\"timestamp\"].dt.isocalendar().week.astype(int)\n",
    "\n",
    "    # 时间特征\n",
    "    if 'time' in feature_types:\n",
    "        df['year'] = df['timestamp'].dt.year\n",
    "        df['month'] = df['timestamp'].dt.month\n",
    "        df['day'] = df['timestamp'].dt.day\n",
    "        df['hour'] = df['timestamp'].dt.hour\n",
    "        df['minute'] = df['timestamp'].dt.minute\n",
    "        df['dayofweek'] = df['timestamp'].dt.dayofweek\n",
    "\n",
    "    # 累积统计特征\n",
    "    if 'statistical' in feature_types:\n",
    "        for i in range(1, 18):\n",
    "            df[f'T1-{i}_mean'] = df[[f'T1-{j}' for j in range(1, i + 1)]].mean(axis=1)\n",
    "            df[f'T1-{i}_std'] = df[[f'T1-{j}' for j in range(1, i + 1)]].std(axis=1)\n",
    "\n",
    "            df[f'T2-{i}_mean'] = df[[f'T2-{j}' for j in range(1, i + 1)]].mean(axis=1)\n",
    "            df[f'T2-{i}_std'] = df[[f'T2-{j}' for j in range(1, i + 1)]].std(axis=1)\n",
    "\n",
    "            df[f'V{i}_mean'] = df[[f'V{j}' for j in range(1, i + 1)]].mean(axis=1)\n",
    "            df[f'V{i}_std'] = df[[f'V{j}' for j in range(1, i + 1)]].std(axis=1)\n",
    "\n",
    "    # 上下温度区总体特征\n",
    "    if 'overall' in feature_types:\n",
    "        # Average, min, max, and standard deviation\n",
    "        df['T1_mean'] = df[[f'T1-{i}' for i in range(1, 18)]].mean(axis=1)\n",
    "        df['T1_min'] = df[[f'T1-{i}' for i in range(1, 18)]].min(axis=1)\n",
    "        df['T1_max'] = df[[f'T1-{i}' for i in range(1, 18)]].max(axis=1)\n",
    "        df['T1_std'] = df[[f'T1-{i}' for i in range(1, 18)]].std(axis=1)\n",
    "\n",
    "        df['T2_mean'] = df[[f'T2-{i}' for i in range(1, 18)]].mean(axis=1)\n",
    "        df['T2_min'] = df[[f'T2-{i}' for i in range(1, 18)]].min(axis=1)\n",
    "        df['T2_max'] = df[[f'T2-{i}' for i in range(1, 18)]].max(axis=1)\n",
    "        df['T2_std'] = df[[f'T2-{i}' for i in range(1, 18)]].std(axis=1)\n",
    "\n",
    "        # Difference and ratio between upper and lower heating rods\n",
    "        df['T1_T2_diff'] = df['T1_mean'] - df['T2_mean']\n",
    "        df['T1_T2_ratio'] = df['T1_mean'] / df['T2_mean']\n",
    "\n",
    "    # 上下温度区交互特征\n",
    "    if 'interaction' in feature_types:\n",
    "        for i in range(1, 18):\n",
    "            df[f'T1-{i}_T2-{i}_diff'] = df[f'T1-{i}'] - df[f'T2-{i}']\n",
    "            df[f'T1-{i}_T2-{i}_ratio'] = df[f'T1-{i}'] / df[f'T2-{i}']\n",
    "            df[f'T1-{i}_T2-{i}_interaction'] = df[f'T1-{i}'] * df[f'T2-{i}']\n",
    "\n",
    "    # 相邻数据点的差值\n",
    "    if 'difference' in feature_types:\n",
    "        for i in range(1, 17):\n",
    "            df[f'T1-{i}_T1-{i + 1}_diff'] = df[f'T1-{i}'] - df[f'T1-{i + 1}']\n",
    "            df[f'T2-{i}_T2-{i + 1}_diff'] = df[f'T2-{i}'] - df[f'T2-{i + 1}']\n",
    "            df[f'V{i}_V{i + 1}_diff'] = df[f'V{i}'] - df[f'V{i + 1}']\n",
    "\n",
    "    # 比例特征\n",
    "    if 'ratio' in feature_types:\n",
    "        for i in range(1, 18):\n",
    "            df[f'T1-{i}_V{i}_ratio'] = df[f'T1-{i}'] / df[f'V{i}']\n",
    "            df[f'T2-{i}_V{i}_ratio'] = df[f'T2-{i}'] / df[f'V{i}']\n",
    "            df[f'T1-{i}_V{i}_interaction'] = df[f'T1-{i}'] * df[f'V{i}']\n",
    "            df[f'T2-{i}_V{i}_interaction'] = df[f'T2-{i}'] * df[f'V{i}']\n",
    "\n",
    "    # 滑动窗口特征\n",
    "    if 'rolling_window' in feature_types:\n",
    "        window_sizes = [i for i in range(1, 5)]  # TODO 调整\n",
    "        for window_size in window_sizes:\n",
    "            for i in range(1, 18):\n",
    "                df[f'T1-{i}_rolling_mean_{window_size}'] = df[f'T1-{i}'].rolling(window_size).mean()\n",
    "                df[f'T2-{i}_rolling_mean_{window_size}'] = df[f'T2-{i}'].rolling(window_size).mean()\n",
    "                df[f'V{i}_rolling_mean_{window_size}'] = df[f'V{i}'].rolling(window_size).mean()\n",
    "\n",
    "    # 空间梯度特征\n",
    "    # 假设加热棒之间的空间距离是均匀的\n",
    "    if 'spatial_gradient' in feature_types:\n",
    "        for i in range(1, 17):\n",
    "            df[f'T1-{i}_T1-{i + 1}_gradient'] = (df[f'T1-{i + 1}'] - df[f'T1-{i}']) / i\n",
    "            df[f'T2-{i}_T2-{i + 1}_gradient'] = (df[f'T2-{i + 1}'] - df[f'T2-{i}']) / i\n",
    "\n",
    "    # 时间梯度特征\n",
    "    if 'time_gradient' in feature_types:\n",
    "        for i in range(1, 18):\n",
    "            df[f'T1-{i}_time_gradient'] = df[f'T1-{i}'].diff()\n",
    "            df[f'T2-{i}_time_gradient'] = df[f'T2-{i}'].diff()\n",
    "            df[f'V{i}_time_gradient'] = df[f'V{i}'].diff()\n",
    "\n",
    "    # 时空梯度特征\n",
    "    if 'time_spatial_gradient' in feature_types:\n",
    "        for i in range(1, 17):\n",
    "            df[f'T1-{i}_T1-{i + 1}_time_gradient'] = df[f'T1-{i + 1}'].diff() - df[f'T1-{i}'].diff()\n",
    "            df[f'T2-{i}_T2-{i + 1}_time_gradient'] = df[f'T2-{i + 1}'].diff() - df[f'T2-{i}'].diff()\n",
    "            df[f'V{i}_V{i + 1}_time_gradient'] = df[f'V{i + 1}'].diff() - df[f'V{i}'].diff()\n",
    "\n",
    "    return df\n",
    "\n",
    "\n",
    "df_add = generate_features(df_train.copy(), USE_FEATURE_TYPES)\n",
    "df_add_test = generate_features(df_train.copy(), USE_FEATURE_TYPES)\n",
    "\n",
    "df_add.columns"
   ],
   "metadata": {
    "collapsed": false,
    "ExecuteTime": {
     "end_time": "2023-07-22T08:28:54.809159Z",
     "start_time": "2023-07-22T08:28:54.691904Z"
    }
   }
  },
  {
   "cell_type": "markdown",
   "source": [
    "## 训练前预处理"
   ],
   "metadata": {
    "collapsed": false
   }
  },
  {
   "cell_type": "code",
   "execution_count": 7,
   "outputs": [
    {
     "data": {
      "text/plain": "((26656, 59), (26656, 34))"
     },
     "execution_count": 7,
     "metadata": {},
     "output_type": "execute_result"
    }
   ],
   "source": [
    "target_cols = df_add.columns[53: 53 + 17 * 2].tolist()\n",
    "feature_cols = [col for col in df_add.columns if col not in target_cols + ['index', 'datetime', 'timestamp']]\n",
    "\n",
    "# 训练集特征向量\n",
    "X = df_add[feature_cols]\n",
    "\n",
    "# 测试集特征向量\n",
    "X_test = df_add_test[feature_cols]\n",
    "\n",
    "# 训练集标签向量\n",
    "Y = df_add[target_cols]\n",
    "\n",
    "# TODO 压缩内存\n",
    "X.shape, Y.shape"
   ],
   "metadata": {
    "collapsed": false,
    "ExecuteTime": {
     "end_time": "2023-07-22T08:28:54.895773Z",
     "start_time": "2023-07-22T08:28:54.780042Z"
    }
   }
  },
  {
   "cell_type": "markdown",
   "source": [
    "## 模型训练"
   ],
   "metadata": {
    "collapsed": false
   }
  },
  {
   "cell_type": "markdown",
   "source": [
    "### 超参数优化"
   ],
   "metadata": {
    "collapsed": false
   }
  },
  {
   "cell_type": "code",
   "execution_count": 8,
   "outputs": [],
   "source": [
    "def objective(trial, x, y_target):\n",
    "    \"\"\"\n",
    "    :param trial:\n",
    "    :param x: n维特征向量\n",
    "    :param y_target: 一维标签向量\n",
    "    :return:\n",
    "    \"\"\"\n",
    "\n",
    "    # 超参数范围\n",
    "    params = {\n",
    "            'boosting_type': 'gbdt',\n",
    "            'objective': 'regression_l1',\n",
    "            'metric': 'mae',\n",
    "            'min_child_weight': 5,\n",
    "            'num_leaves': trial.suggest_int('num_leaves', 2, 256),\n",
    "            'feature_fraction': trial.suggest_float('feature_fraction', 0.4, 1.0),\n",
    "            'bagging_fraction': trial.suggest_float('bagging_fraction', 0.4, 1.0),\n",
    "            'bagging_freq': trial.suggest_int('bagging_freq', 1, 7),\n",
    "            'learning_rate': trial.suggest_float('learning_rate', 0.01, 0.1, log=True),\n",
    "            'seed': 2023,\n",
    "            'nthread': USE_CPU_CORES,\n",
    "            'verbose': -1,\n",
    "            'early_stopping_round': EARLY_STOPPING_ROUND,\n",
    "            # 正则化方法\n",
    "            'lambda_l1': trial.suggest_float('lambda_l1', 0, 10),\n",
    "            'lambda_l2': trial.suggest_float('lambda_l2', 0, 10),\n",
    "            'min_split_gain': trial.suggest_float('min_split_gain', 0, 1),\n",
    "            'max_depth': trial.suggest_int('max_depth', -1, 50),\n",
    "            # 剪枝\n",
    "            'min_data_in_leaf': trial.suggest_int('min_data_in_leaf', 20, 200),\n",
    "            'min_gain_to_split': trial.suggest_float('min_gain_to_split', 0.1, 1.0),\n",
    "\n",
    "    }\n",
    "\n",
    "    # 5-Fold 交叉验证进行训练\n",
    "    train_data = lgb.Dataset(x, label=y_target)\n",
    "    pruning_callback = LightGBMPruningCallback(trial, 'valid l1')\n",
    "    cv_results = lgb.cv(params, train_data, num_boost_round=TRAIN_ROUND, nfold=5, callbacks=[pruning_callback])\n",
    "\n",
    "    # 计算MAE\n",
    "    mae = cv_results['valid l1-mean'][-1]\n",
    "    return mae\n",
    "\n"
   ],
   "metadata": {
    "collapsed": false,
    "ExecuteTime": {
     "end_time": "2023-07-22T08:28:54.895949Z",
     "start_time": "2023-07-22T08:28:54.848028Z"
    }
   }
  },
  {
   "cell_type": "markdown",
   "source": [
    "### 多目标训练"
   ],
   "metadata": {
    "collapsed": false
   }
  },
  {
   "cell_type": "code",
   "execution_count": null,
   "outputs": [
    {
     "name": "stderr",
     "output_type": "stream",
     "text": [
      "[I 2023-07-22 16:28:54,766] A new study created in memory with name: no-name-3c7bda2f-6899-44a8-8c3f-1f83444b8c0a\n",
      "/home/ubuntu/miniconda3/envs/Datawhale-TP/lib/python3.10/site-packages/sklearn/model_selection/_split.py:725: UserWarning: The least populated class in y has only 1 members, which is less than n_splits=5.\n",
      "  warnings.warn(\n",
      "[I 2023-07-22 16:29:06,374] Trial 0 finished with value: 5.071628180225693 and parameters: {'num_leaves': 80, 'feature_fraction': 0.4941213568623791, 'bagging_fraction': 0.7278712610359347, 'bagging_freq': 3, 'learning_rate': 0.05509931027365174, 'lambda_l1': 7.769028585323593, 'lambda_l2': 5.259000903034812, 'min_split_gain': 0.7279833084616824, 'max_depth': 24, 'min_data_in_leaf': 115, 'min_gain_to_split': 0.9291581764566696}. Best is trial 0 with value: 5.071628180225693.\n",
      "/home/ubuntu/miniconda3/envs/Datawhale-TP/lib/python3.10/site-packages/sklearn/model_selection/_split.py:725: UserWarning: The least populated class in y has only 1 members, which is less than n_splits=5.\n",
      "  warnings.warn(\n",
      "[I 2023-07-22 16:29:22,721] Trial 1 finished with value: 5.816991612509058 and parameters: {'num_leaves': 80, 'feature_fraction': 0.4105444388192827, 'bagging_fraction': 0.7784807563059533, 'bagging_freq': 5, 'learning_rate': 0.013328677103539029, 'lambda_l1': 4.777166979705378, 'lambda_l2': 6.200093793256558, 'min_split_gain': 0.14365938536474454, 'max_depth': 47, 'min_data_in_leaf': 158, 'min_gain_to_split': 0.6135807165653706}. Best is trial 0 with value: 5.071628180225693.\n",
      "/home/ubuntu/miniconda3/envs/Datawhale-TP/lib/python3.10/site-packages/sklearn/model_selection/_split.py:725: UserWarning: The least populated class in y has only 1 members, which is less than n_splits=5.\n",
      "  warnings.warn(\n",
      "[I 2023-07-22 16:29:34,400] Trial 2 finished with value: 7.9260521509805075 and parameters: {'num_leaves': 130, 'feature_fraction': 0.40128200974677203, 'bagging_fraction': 0.4859830245537123, 'bagging_freq': 2, 'learning_rate': 0.012200077202318646, 'lambda_l1': 3.742850099426005, 'lambda_l2': 0.4896586403476477, 'min_split_gain': 0.9932610536405924, 'max_depth': 46, 'min_data_in_leaf': 200, 'min_gain_to_split': 0.6177506361976818}. Best is trial 0 with value: 5.071628180225693.\n",
      "/home/ubuntu/miniconda3/envs/Datawhale-TP/lib/python3.10/site-packages/sklearn/model_selection/_split.py:725: UserWarning: The least populated class in y has only 1 members, which is less than n_splits=5.\n",
      "  warnings.warn(\n",
      "[I 2023-07-22 16:29:54,772] Trial 3 finished with value: 4.562051156541304 and parameters: {'num_leaves': 139, 'feature_fraction': 0.8142704194545938, 'bagging_fraction': 0.8790754690510053, 'bagging_freq': 1, 'learning_rate': 0.0319570771607518, 'lambda_l1': 4.332653463080705, 'lambda_l2': 8.990209793461755, 'min_split_gain': 0.7345402180097896, 'max_depth': 35, 'min_data_in_leaf': 151, 'min_gain_to_split': 0.5212078686579855}. Best is trial 3 with value: 4.562051156541304.\n",
      "/home/ubuntu/miniconda3/envs/Datawhale-TP/lib/python3.10/site-packages/sklearn/model_selection/_split.py:725: UserWarning: The least populated class in y has only 1 members, which is less than n_splits=5.\n",
      "  warnings.warn(\n",
      "[I 2023-07-22 16:30:38,161] Trial 4 finished with value: 3.3099005373867643 and parameters: {'num_leaves': 221, 'feature_fraction': 0.7083614991338416, 'bagging_fraction': 0.9909378359332373, 'bagging_freq': 7, 'learning_rate': 0.019130904629384597, 'lambda_l1': 4.1103345454755065, 'lambda_l2': 0.05202662510179534, 'min_split_gain': 0.47074965073732933, 'max_depth': 19, 'min_data_in_leaf': 36, 'min_gain_to_split': 0.17541092332779906}. Best is trial 4 with value: 3.3099005373867643.\n",
      "/home/ubuntu/miniconda3/envs/Datawhale-TP/lib/python3.10/site-packages/sklearn/model_selection/_split.py:725: UserWarning: The least populated class in y has only 1 members, which is less than n_splits=5.\n",
      "  warnings.warn(\n",
      "[I 2023-07-22 16:30:59,053] Trial 5 finished with value: 4.490646387675665 and parameters: {'num_leaves': 173, 'feature_fraction': 0.4138043191958031, 'bagging_fraction': 0.9121780753113494, 'bagging_freq': 6, 'learning_rate': 0.05569761694903071, 'lambda_l1': 1.6626383233316655, 'lambda_l2': 0.4015859827954449, 'min_split_gain': 0.4328370455700844, 'max_depth': 49, 'min_data_in_leaf': 141, 'min_gain_to_split': 0.4013710544153746}. Best is trial 4 with value: 3.3099005373867643.\n",
      "/home/ubuntu/miniconda3/envs/Datawhale-TP/lib/python3.10/site-packages/sklearn/model_selection/_split.py:725: UserWarning: The least populated class in y has only 1 members, which is less than n_splits=5.\n",
      "  warnings.warn(\n",
      "[I 2023-07-22 16:31:13,186] Trial 6 finished with value: 3.7755601028409926 and parameters: {'num_leaves': 100, 'feature_fraction': 0.6291956744224865, 'bagging_fraction': 0.9187665634617344, 'bagging_freq': 7, 'learning_rate': 0.07654407655876586, 'lambda_l1': 3.077573200582757, 'lambda_l2': 6.195195049264327, 'min_split_gain': 0.4726208035598144, 'max_depth': 42, 'min_data_in_leaf': 37, 'min_gain_to_split': 0.6696791013868659}. Best is trial 4 with value: 3.3099005373867643.\n",
      "/home/ubuntu/miniconda3/envs/Datawhale-TP/lib/python3.10/site-packages/sklearn/model_selection/_split.py:725: UserWarning: The least populated class in y has only 1 members, which is less than n_splits=5.\n",
      "  warnings.warn(\n",
      "[I 2023-07-22 16:31:13,352] Trial 7 pruned. Trial was pruned at iteration 0.\n",
      "/home/ubuntu/miniconda3/envs/Datawhale-TP/lib/python3.10/site-packages/sklearn/model_selection/_split.py:725: UserWarning: The least populated class in y has only 1 members, which is less than n_splits=5.\n",
      "  warnings.warn(\n",
      "[I 2023-07-22 16:31:14,066] Trial 8 pruned. Trial was pruned at iteration 67.\n",
      "/home/ubuntu/miniconda3/envs/Datawhale-TP/lib/python3.10/site-packages/sklearn/model_selection/_split.py:725: UserWarning: The least populated class in y has only 1 members, which is less than n_splits=5.\n",
      "  warnings.warn(\n",
      "[I 2023-07-22 16:31:14,216] Trial 9 pruned. Trial was pruned at iteration 0.\n",
      "/home/ubuntu/miniconda3/envs/Datawhale-TP/lib/python3.10/site-packages/sklearn/model_selection/_split.py:725: UserWarning: The least populated class in y has only 1 members, which is less than n_splits=5.\n",
      "  warnings.warn(\n",
      "[I 2023-07-22 16:31:14,412] Trial 10 pruned. Trial was pruned at iteration 0.\n",
      "/home/ubuntu/miniconda3/envs/Datawhale-TP/lib/python3.10/site-packages/sklearn/model_selection/_split.py:725: UserWarning: The least populated class in y has only 1 members, which is less than n_splits=5.\n",
      "  warnings.warn(\n",
      "[I 2023-07-22 16:31:14,639] Trial 11 pruned. Trial was pruned at iteration 0.\n",
      "/home/ubuntu/miniconda3/envs/Datawhale-TP/lib/python3.10/site-packages/sklearn/model_selection/_split.py:725: UserWarning: The least populated class in y has only 1 members, which is less than n_splits=5.\n",
      "  warnings.warn(\n",
      "[I 2023-07-22 16:31:14,859] Trial 12 pruned. Trial was pruned at iteration 0.\n",
      "/home/ubuntu/miniconda3/envs/Datawhale-TP/lib/python3.10/site-packages/sklearn/model_selection/_split.py:725: UserWarning: The least populated class in y has only 1 members, which is less than n_splits=5.\n",
      "  warnings.warn(\n",
      "[I 2023-07-22 16:31:28,157] Trial 13 finished with value: 4.0033287777996645 and parameters: {'num_leaves': 81, 'feature_fraction': 0.7850045591715364, 'bagging_fraction': 0.9906602354311355, 'bagging_freq': 6, 'learning_rate': 0.09987725392293634, 'lambda_l1': 2.6943938398249667, 'lambda_l2': 7.203685188640399, 'min_split_gain': 0.557523349856642, 'max_depth': 34, 'min_data_in_leaf': 89, 'min_gain_to_split': 0.46366978911982765}. Best is trial 4 with value: 3.3099005373867643.\n",
      "/home/ubuntu/miniconda3/envs/Datawhale-TP/lib/python3.10/site-packages/sklearn/model_selection/_split.py:725: UserWarning: The least populated class in y has only 1 members, which is less than n_splits=5.\n",
      "  warnings.warn(\n",
      "[I 2023-07-22 16:31:29,357] Trial 14 pruned. Trial was pruned at iteration 66.\n",
      "/home/ubuntu/miniconda3/envs/Datawhale-TP/lib/python3.10/site-packages/sklearn/model_selection/_split.py:725: UserWarning: The least populated class in y has only 1 members, which is less than n_splits=5.\n",
      "  warnings.warn(\n",
      "[I 2023-07-22 16:31:29,551] Trial 15 pruned. Trial was pruned at iteration 0.\n",
      "/home/ubuntu/miniconda3/envs/Datawhale-TP/lib/python3.10/site-packages/sklearn/model_selection/_split.py:725: UserWarning: The least populated class in y has only 1 members, which is less than n_splits=5.\n",
      "  warnings.warn(\n",
      "[I 2023-07-22 16:31:29,763] Trial 16 pruned. Trial was pruned at iteration 0.\n",
      "/home/ubuntu/miniconda3/envs/Datawhale-TP/lib/python3.10/site-packages/sklearn/model_selection/_split.py:725: UserWarning: The least populated class in y has only 1 members, which is less than n_splits=5.\n",
      "  warnings.warn(\n",
      "[I 2023-07-22 16:31:29,984] Trial 17 pruned. Trial was pruned at iteration 0.\n",
      "/home/ubuntu/miniconda3/envs/Datawhale-TP/lib/python3.10/site-packages/sklearn/model_selection/_split.py:725: UserWarning: The least populated class in y has only 1 members, which is less than n_splits=5.\n",
      "  warnings.warn(\n",
      "[I 2023-07-22 16:31:30,198] Trial 18 pruned. Trial was pruned at iteration 0.\n",
      "/home/ubuntu/miniconda3/envs/Datawhale-TP/lib/python3.10/site-packages/sklearn/model_selection/_split.py:725: UserWarning: The least populated class in y has only 1 members, which is less than n_splits=5.\n",
      "  warnings.warn(\n",
      "[I 2023-07-22 16:31:46,760] Trial 19 finished with value: 4.316264105015485 and parameters: {'num_leaves': 229, 'feature_fraction': 0.7326322921604143, 'bagging_fraction': 0.8905035746519002, 'bagging_freq': 3, 'learning_rate': 0.07574040254801158, 'lambda_l1': 2.2655430973980497, 'lambda_l2': 2.0035734778488203, 'min_split_gain': 0.4757354867531203, 'max_depth': 9, 'min_data_in_leaf': 115, 'min_gain_to_split': 0.245741618528702}. Best is trial 4 with value: 3.3099005373867643.\n",
      "/home/ubuntu/miniconda3/envs/Datawhale-TP/lib/python3.10/site-packages/sklearn/model_selection/_split.py:725: UserWarning: The least populated class in y has only 1 members, which is less than n_splits=5.\n",
      "  warnings.warn(\n",
      "[I 2023-07-22 16:31:46,977] Trial 20 pruned. Trial was pruned at iteration 0.\n",
      "/home/ubuntu/miniconda3/envs/Datawhale-TP/lib/python3.10/site-packages/sklearn/model_selection/_split.py:725: UserWarning: The least populated class in y has only 1 members, which is less than n_splits=5.\n",
      "  warnings.warn(\n",
      "[I 2023-07-22 16:31:56,135] Trial 21 finished with value: 4.111289546091493 and parameters: {'num_leaves': 80, 'feature_fraction': 0.7767559639066901, 'bagging_fraction': 0.9992810612795274, 'bagging_freq': 6, 'learning_rate': 0.09046584362843799, 'lambda_l1': 2.2648788074101978, 'lambda_l2': 6.641092881855487, 'min_split_gain': 0.5938928036520611, 'max_depth': 40, 'min_data_in_leaf': 83, 'min_gain_to_split': 0.5241666742737497}. Best is trial 4 with value: 3.3099005373867643.\n",
      "/home/ubuntu/miniconda3/envs/Datawhale-TP/lib/python3.10/site-packages/sklearn/model_selection/_split.py:725: UserWarning: The least populated class in y has only 1 members, which is less than n_splits=5.\n",
      "  warnings.warn(\n"
     ]
    }
   ],
   "source": [
    "def sequential_optimization(x, y):\n",
    "    for i, target in enumerate(y.columns):\n",
    "        y_target = y[target]\n",
    "\n",
    "        # 搜索超参数\n",
    "        study = optuna.create_study(direction='minimize')\n",
    "        study.optimize(lambda trial: objective(trial, x, y_target), n_trials=OPTUNA_ROUND)\n",
    "\n",
    "        # 可视化\n",
    "        ov.plot_optimization_history(study).write_image(f\"{OUTPUT_PATH}/optimization_history_{target}.png\")\n",
    "        ov.plot_param_importances(study).write_image(f\"{OUTPUT_PATH}/param_importances_{target}.png\")\n",
    "        ov.matplotlib.plot_intermediate_values(study).write_image(f\"{OUTPUT_PATH}/param_loss_{target}.png\")\n",
    "\n",
    "        # 使用最佳超参数训练模型\n",
    "        best_params = study.best_trial.params\n",
    "        train_data = lgb.Dataset(x, label=y_target)\n",
    "        gbm_best = lgb.train(best_params, train_data, num_boost_round=TRAIN_ROUND)\n",
    "\n",
    "        dump(gbm_best, f'./models/model_{i}.joblib')\n",
    "\n",
    "\n",
    "sequential_optimization(X, Y)"
   ],
   "metadata": {
    "collapsed": false,
    "is_executing": true,
    "ExecuteTime": {
     "start_time": "2023-07-22T08:28:54.848171Z"
    }
   }
  },
  {
   "cell_type": "markdown",
   "source": [
    "## 模型推理"
   ],
   "metadata": {
    "collapsed": false
   }
  },
  {
   "cell_type": "code",
   "execution_count": null,
   "outputs": [],
   "source": [
    "def predict_by_multi_targets(x, y):\n",
    "    \"\"\"\n",
    "    使用保存的模型分开预测\n",
    "    :param x: 测试集特征向量\n",
    "    :param y: 训练集标签向量，用于提取名称\n",
    "    \"\"\"\n",
    "    df_predictions = pd.DataFrame()\n",
    "\n",
    "    for i in range(len(y.columns)):\n",
    "        # 加载\n",
    "        gbm_best_saved = load(f'{MODEL_SAVE_PATH}/model_{i}.joblib')\n",
    "\n",
    "        # 预测\n",
    "        predictions = gbm_best_saved.predict(x)\n",
    "\n",
    "        # 存储\n",
    "        df_predictions[f'target_{i}'] = predictions\n",
    "\n",
    "    # 输出\n",
    "    df_predictions.insert(0, 'index', df_train['index'])\n",
    "    df_predictions.columns = pd.read_csv(SUBMIT_PATH).columns\n",
    "    df_predictions.to_csv(f'{OUTPUT_PATH}/predictions.csv', index=False)\n",
    "    return df_predictions\n",
    "\n",
    "\n",
    "predict_by_multi_targets(X_test, Y)"
   ],
   "metadata": {
    "collapsed": false,
    "is_executing": true
   }
  }
 ],
 "metadata": {
  "kernelspec": {
   "name": "datawhale-tp",
   "language": "python",
   "display_name": "Datawhale-TP"
  },
  "language_info": {
   "codemirror_mode": {
    "name": "ipython",
    "version": 2
   },
   "file_extension": ".py",
   "mimetype": "text/x-python",
   "name": "python",
   "nbconvert_exporter": "python",
   "pygments_lexer": "ipython2",
   "version": "2.7.6"
  }
 },
 "nbformat": 4,
 "nbformat_minor": 0
}
